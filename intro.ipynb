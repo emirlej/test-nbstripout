{
 "cells": [
  {
   "cell_type": "markdown",
   "metadata": {},
   "source": [
    "# Testing using git and notebooks in a nice way\n",
    "\n",
    "This is done using the **nbstripout** packages. Check out README.md for more info. "
   ]
  },
  {
   "cell_type": "code",
   "execution_count": null,
   "metadata": {},
   "outputs": [],
   "source": [
    "# Libraries\n",
    "import pandas as pd\n",
    "import matplotlib.pyplot as plt\n",
    "import seaborn as sns\n",
    "%matplotlib inline"
   ]
  },
  {
   "cell_type": "code",
   "execution_count": null,
   "metadata": {},
   "outputs": [],
   "source": [
    "data = {\"name\": [\"Emir\", \"Bob\", \"Jens\"], \"age\": [30, 100, 40]}\n",
    "df = pd.DataFrame(data)\n",
    "df.head()"
   ]
  },
  {
   "cell_type": "code",
   "execution_count": null,
   "metadata": {},
   "outputs": [],
   "source": [
    "# Functions\n",
    "def multiply(x, by):\n",
    "    \"\"\" Multiply a number by another \"\"\"\n",
    "    return(x*by)\n",
    "\n",
    "def get_length_of_string(string):\n",
    "    \"\"\" Returns number of characters in a string \"\"\"\n",
    "    return(len(string))"
   ]
  },
  {
   "cell_type": "code",
   "execution_count": null,
   "metadata": {},
   "outputs": [],
   "source": [
    "# New functions\n",
    "def create_list_of_row(row):\n",
    "    \"\"\" \n",
    "    Create a new column which creates a list with \n",
    "    all other columns as input \n",
    "    \"\"\"\n",
    "    row_list = row.tolist()\n",
    "    return(\"[\" + str(row_list).strip('[]') + \"]\")\n",
    "\n",
    "# Test function\n",
    "df_new = df.copy()\n",
    "df_new[\"test\"] = df.apply(create_list_of_row, axis=1)\n",
    "df_new.head()"
   ]
  },
  {
   "cell_type": "code",
   "execution_count": null,
   "metadata": {},
   "outputs": [],
   "source": [
    "df[\"age_time_four\"] = df[\"age\"].apply(lambda age: multiply(age, 4))\n",
    "df[\"length_of_name\"] = df[\"name\"].apply(get_length_of_string)\n",
    "df.head()"
   ]
  },
  {
   "cell_type": "code",
   "execution_count": null,
   "metadata": {},
   "outputs": [],
   "source": [
    "df.describe()"
   ]
  },
  {
   "cell_type": "code",
   "execution_count": null,
   "metadata": {},
   "outputs": [],
   "source": []
  }
 ],
 "metadata": {
  "kernelspec": {
   "display_name": "py36",
   "language": "python",
   "name": "py36"
  },
  "language_info": {
   "codemirror_mode": {
    "name": "ipython",
    "version": 3
   },
   "file_extension": ".py",
   "mimetype": "text/x-python",
   "name": "python",
   "nbconvert_exporter": "python",
   "pygments_lexer": "ipython3",
   "version": "3.6.1"
  }
 },
 "nbformat": 4,
 "nbformat_minor": 2
}
